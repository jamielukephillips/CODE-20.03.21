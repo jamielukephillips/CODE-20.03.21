{
 "metadata": {
  "language_info": {
   "codemirror_mode": {
    "name": "ipython",
    "version": 3
   },
   "file_extension": ".py",
   "mimetype": "text/x-python",
   "name": "python",
   "nbconvert_exporter": "python",
   "pygments_lexer": "ipython3",
   "version": "3.8.5-final"
  },
  "orig_nbformat": 2,
  "kernelspec": {
   "name": "python3",
   "display_name": "Python 3.8.5 64-bit ('base': conda)",
   "metadata": {
    "interpreter": {
     "hash": "af0295ebdea02016f89f1f18857b29eb3a2e53c90a8a81f84a91ee9eca1f4312"
    }
   }
  }
 },
 "nbformat": 4,
 "nbformat_minor": 2,
 "cells": [
  {
   "cell_type": "code",
   "execution_count": 1,
   "metadata": {},
   "outputs": [],
   "source": [
    "import numpy as np \n",
    "import pandas as pd\n"
   ]
  },
  {
   "source": [
    "useful links:\n",
    "data cleaning: https://blog.dkvirus.top/python/pandas.html （Chinese only) \n"
   ],
   "cell_type": "markdown",
   "metadata": {}
  },
  {
   "cell_type": "code",
   "execution_count": 18,
   "metadata": {},
   "outputs": [
    {
     "output_type": "stream",
     "name": "stdout",
     "text": [
      "  class cap-shape cap-surface cap-color bruises odor gill-attachment  \\\n0     p         x           s         n       t    p               f   \n1     e         x           s         y       t    a               f   \n2     e         b           s         w       t    l               f   \n3     p         x           y         w       t    p               f   \n4     e         x           s         g       f    n               f   \n\n  gill-spacing gill-size gill-color  ... stalk-surface-below-ring  \\\n0            c         n          k  ...                        s   \n1            c         b          k  ...                        s   \n2            c         b          n  ...                        s   \n3            c         n          n  ...                        s   \n4            w         b          k  ...                        s   \n\n  stalk-color-above-ring stalk-color-below-ring veil-type veil-color  \\\n0                      w                      w         p          w   \n1                      w                      w         p          w   \n2                      w                      w         p          w   \n3                      w                      w         p          w   \n4                      w                      w         p          w   \n\n  ring-number ring-type spore-print-color population habitat  \n0           o         p                 k          s       u  \n1           o         p                 n          n       g  \n2           o         p                 n          n       m  \n3           o         p                 k          s       u  \n4           o         e                 n          a       g  \n\n[5 rows x 23 columns]\n     class cap-shape cap-surface cap-color bruises odor gill-attachment  \\\n8119     e         k           s         n       f    n               a   \n8120     e         x           s         n       f    n               a   \n8121     e         f           s         n       f    n               a   \n8122     p         k           y         n       f    y               f   \n8123     e         x           s         n       f    n               a   \n\n     gill-spacing gill-size gill-color  ... stalk-surface-below-ring  \\\n8119            c         b          y  ...                        s   \n8120            c         b          y  ...                        s   \n8121            c         b          n  ...                        s   \n8122            c         n          b  ...                        k   \n8123            c         b          y  ...                        s   \n\n     stalk-color-above-ring stalk-color-below-ring veil-type veil-color  \\\n8119                      o                      o         p          o   \n8120                      o                      o         p          n   \n8121                      o                      o         p          o   \n8122                      w                      w         p          w   \n8123                      o                      o         p          o   \n\n     ring-number ring-type spore-print-color population habitat  \n8119           o         p                 b          c       l  \n8120           o         p                 b          v       l  \n8121           o         p                 b          c       l  \n8122           o         e                 w          v       l  \n8123           o         p                 o          c       l  \n\n[5 rows x 23 columns]\n"
     ]
    }
   ],
   "source": [
    "# read data from csv to dataframe \n",
    "df=pd.read_csv('mushrooms.csv')\n",
    "print (df.head())\n",
    "print (df.tail())\n",
    "df1 = df #create a df1 for data cleaning copy dataframe "
   ]
  },
  {
   "cell_type": "code",
   "execution_count": 3,
   "metadata": {},
   "outputs": [
    {
     "output_type": "stream",
     "name": "stdout",
     "text": [
      "       class cap-shape cap-surface cap-color bruises  odor gill-attachment  \\\ncount   8124      8124        8124      8124    8124  8124            8124   \nunique     2         6           4        10       2     9               2   \ntop        e         x           y         n       f     n               f   \nfreq    4208      3656        3244      2284    4748  3528            7914   \n\n       gill-spacing gill-size gill-color  ... stalk-surface-below-ring  \\\ncount          8124      8124       8124  ...                     8124   \nunique            2         2         12  ...                        4   \ntop               c         b          b  ...                        s   \nfreq           6812      5612       1728  ...                     4936   \n\n       stalk-color-above-ring stalk-color-below-ring veil-type veil-color  \\\ncount                    8124                   8124      8124       8124   \nunique                      9                      9         1          4   \ntop                         w                      w         p          w   \nfreq                     4464                   4384      8124       7924   \n\n       ring-number ring-type spore-print-color population habitat  \ncount         8124      8124              8124       8124    8124  \nunique           3         5                 9          6       7  \ntop              o         p                 w          v       d  \nfreq          7488      3968              2388       4040    3148  \n\n[4 rows x 23 columns]\n"
     ]
    }
   ],
   "source": [
    "#describe the dataset \n",
    "print(df.describe())"
   ]
  },
  {
   "cell_type": "code",
   "execution_count": 4,
   "metadata": {},
   "outputs": [
    {
     "output_type": "stream",
     "name": "stdout",
     "text": [
      "RangeIndex(start=0, stop=8124, step=1)\n8123\n8124\nIndex(['class', 'cap-shape', 'cap-surface', 'cap-color', 'bruises', 'odor',\n       'gill-attachment', 'gill-spacing', 'gill-size', 'gill-color',\n       'stalk-shape', 'stalk-root', 'stalk-surface-above-ring',\n       'stalk-surface-below-ring', 'stalk-color-above-ring',\n       'stalk-color-below-ring', 'veil-type', 'veil-color', 'ring-number',\n       'ring-type', 'spore-print-color', 'population', 'habitat'],\n      dtype='object')\n"
     ]
    }
   ],
   "source": [
    "print(df.index)\n",
    "print(df.index.max())\n",
    "print(df.index.size)\n",
    "print(df.columns)"
   ]
  },
  {
   "cell_type": "code",
   "execution_count": 5,
   "metadata": {},
   "outputs": [
    {
     "output_type": "stream",
     "name": "stdout",
     "text": [
      "object\nobject\n"
     ]
    }
   ],
   "source": [
    "## I assume all the column data type will be objects \n",
    "print((df['class'].dtypes))\n",
    "print((df['stalk-root'].dtypes))"
   ]
  },
  {
   "cell_type": "code",
   "execution_count": 6,
   "metadata": {},
   "outputs": [
    {
     "output_type": "execute_result",
     "data": {
      "text/plain": [
       "     class cap-shape cap-surface cap-color bruises odor gill-attachment  \\\n",
       "3984     e         x           y         b       t    n               f   \n",
       "4023     p         x           y         e       f    y               f   \n",
       "4076     e         f           y         u       f    n               f   \n",
       "4100     p         x           y         e       f    y               f   \n",
       "4104     p         x           y         n       f    f               f   \n",
       "...    ...       ...         ...       ...     ...  ...             ...   \n",
       "8119     e         k           s         n       f    n               a   \n",
       "8120     e         x           s         n       f    n               a   \n",
       "8121     e         f           s         n       f    n               a   \n",
       "8122     p         k           y         n       f    y               f   \n",
       "8123     e         x           s         n       f    n               a   \n",
       "\n",
       "     gill-spacing gill-size gill-color  ... stalk-surface-below-ring  \\\n",
       "3984            c         b          e  ...                        s   \n",
       "4023            c         n          b  ...                        s   \n",
       "4076            c         n          h  ...                        f   \n",
       "4100            c         n          b  ...                        s   \n",
       "4104            c         n          b  ...                        s   \n",
       "...           ...       ...        ...  ...                      ...   \n",
       "8119            c         b          y  ...                        s   \n",
       "8120            c         b          y  ...                        s   \n",
       "8121            c         b          n  ...                        s   \n",
       "8122            c         n          b  ...                        k   \n",
       "8123            c         b          y  ...                        s   \n",
       "\n",
       "     stalk-color-above-ring stalk-color-below-ring veil-type veil-color  \\\n",
       "3984                      e                      w         p          w   \n",
       "4023                      w                      w         p          w   \n",
       "4076                      w                      w         p          w   \n",
       "4100                      p                      p         p          w   \n",
       "4104                      p                      p         p          w   \n",
       "...                     ...                    ...       ...        ...   \n",
       "8119                      o                      o         p          o   \n",
       "8120                      o                      o         p          n   \n",
       "8121                      o                      o         p          o   \n",
       "8122                      w                      w         p          w   \n",
       "8123                      o                      o         p          o   \n",
       "\n",
       "     ring-number ring-type spore-print-color population habitat  \n",
       "3984           t         e                 w          c       w  \n",
       "4023           o         e                 w          v       p  \n",
       "4076           o         f                 h          y       d  \n",
       "4100           o         e                 w          v       d  \n",
       "4104           o         e                 w          v       l  \n",
       "...          ...       ...               ...        ...     ...  \n",
       "8119           o         p                 b          c       l  \n",
       "8120           o         p                 b          v       l  \n",
       "8121           o         p                 b          c       l  \n",
       "8122           o         e                 w          v       l  \n",
       "8123           o         p                 o          c       l  \n",
       "\n",
       "[2480 rows x 23 columns]"
      ],
      "text/html": "<div>\n<style scoped>\n    .dataframe tbody tr th:only-of-type {\n        vertical-align: middle;\n    }\n\n    .dataframe tbody tr th {\n        vertical-align: top;\n    }\n\n    .dataframe thead th {\n        text-align: right;\n    }\n</style>\n<table border=\"1\" class=\"dataframe\">\n  <thead>\n    <tr style=\"text-align: right;\">\n      <th></th>\n      <th>class</th>\n      <th>cap-shape</th>\n      <th>cap-surface</th>\n      <th>cap-color</th>\n      <th>bruises</th>\n      <th>odor</th>\n      <th>gill-attachment</th>\n      <th>gill-spacing</th>\n      <th>gill-size</th>\n      <th>gill-color</th>\n      <th>...</th>\n      <th>stalk-surface-below-ring</th>\n      <th>stalk-color-above-ring</th>\n      <th>stalk-color-below-ring</th>\n      <th>veil-type</th>\n      <th>veil-color</th>\n      <th>ring-number</th>\n      <th>ring-type</th>\n      <th>spore-print-color</th>\n      <th>population</th>\n      <th>habitat</th>\n    </tr>\n  </thead>\n  <tbody>\n    <tr>\n      <th>3984</th>\n      <td>e</td>\n      <td>x</td>\n      <td>y</td>\n      <td>b</td>\n      <td>t</td>\n      <td>n</td>\n      <td>f</td>\n      <td>c</td>\n      <td>b</td>\n      <td>e</td>\n      <td>...</td>\n      <td>s</td>\n      <td>e</td>\n      <td>w</td>\n      <td>p</td>\n      <td>w</td>\n      <td>t</td>\n      <td>e</td>\n      <td>w</td>\n      <td>c</td>\n      <td>w</td>\n    </tr>\n    <tr>\n      <th>4023</th>\n      <td>p</td>\n      <td>x</td>\n      <td>y</td>\n      <td>e</td>\n      <td>f</td>\n      <td>y</td>\n      <td>f</td>\n      <td>c</td>\n      <td>n</td>\n      <td>b</td>\n      <td>...</td>\n      <td>s</td>\n      <td>w</td>\n      <td>w</td>\n      <td>p</td>\n      <td>w</td>\n      <td>o</td>\n      <td>e</td>\n      <td>w</td>\n      <td>v</td>\n      <td>p</td>\n    </tr>\n    <tr>\n      <th>4076</th>\n      <td>e</td>\n      <td>f</td>\n      <td>y</td>\n      <td>u</td>\n      <td>f</td>\n      <td>n</td>\n      <td>f</td>\n      <td>c</td>\n      <td>n</td>\n      <td>h</td>\n      <td>...</td>\n      <td>f</td>\n      <td>w</td>\n      <td>w</td>\n      <td>p</td>\n      <td>w</td>\n      <td>o</td>\n      <td>f</td>\n      <td>h</td>\n      <td>y</td>\n      <td>d</td>\n    </tr>\n    <tr>\n      <th>4100</th>\n      <td>p</td>\n      <td>x</td>\n      <td>y</td>\n      <td>e</td>\n      <td>f</td>\n      <td>y</td>\n      <td>f</td>\n      <td>c</td>\n      <td>n</td>\n      <td>b</td>\n      <td>...</td>\n      <td>s</td>\n      <td>p</td>\n      <td>p</td>\n      <td>p</td>\n      <td>w</td>\n      <td>o</td>\n      <td>e</td>\n      <td>w</td>\n      <td>v</td>\n      <td>d</td>\n    </tr>\n    <tr>\n      <th>4104</th>\n      <td>p</td>\n      <td>x</td>\n      <td>y</td>\n      <td>n</td>\n      <td>f</td>\n      <td>f</td>\n      <td>f</td>\n      <td>c</td>\n      <td>n</td>\n      <td>b</td>\n      <td>...</td>\n      <td>s</td>\n      <td>p</td>\n      <td>p</td>\n      <td>p</td>\n      <td>w</td>\n      <td>o</td>\n      <td>e</td>\n      <td>w</td>\n      <td>v</td>\n      <td>l</td>\n    </tr>\n    <tr>\n      <th>...</th>\n      <td>...</td>\n      <td>...</td>\n      <td>...</td>\n      <td>...</td>\n      <td>...</td>\n      <td>...</td>\n      <td>...</td>\n      <td>...</td>\n      <td>...</td>\n      <td>...</td>\n      <td>...</td>\n      <td>...</td>\n      <td>...</td>\n      <td>...</td>\n      <td>...</td>\n      <td>...</td>\n      <td>...</td>\n      <td>...</td>\n      <td>...</td>\n      <td>...</td>\n      <td>...</td>\n    </tr>\n    <tr>\n      <th>8119</th>\n      <td>e</td>\n      <td>k</td>\n      <td>s</td>\n      <td>n</td>\n      <td>f</td>\n      <td>n</td>\n      <td>a</td>\n      <td>c</td>\n      <td>b</td>\n      <td>y</td>\n      <td>...</td>\n      <td>s</td>\n      <td>o</td>\n      <td>o</td>\n      <td>p</td>\n      <td>o</td>\n      <td>o</td>\n      <td>p</td>\n      <td>b</td>\n      <td>c</td>\n      <td>l</td>\n    </tr>\n    <tr>\n      <th>8120</th>\n      <td>e</td>\n      <td>x</td>\n      <td>s</td>\n      <td>n</td>\n      <td>f</td>\n      <td>n</td>\n      <td>a</td>\n      <td>c</td>\n      <td>b</td>\n      <td>y</td>\n      <td>...</td>\n      <td>s</td>\n      <td>o</td>\n      <td>o</td>\n      <td>p</td>\n      <td>n</td>\n      <td>o</td>\n      <td>p</td>\n      <td>b</td>\n      <td>v</td>\n      <td>l</td>\n    </tr>\n    <tr>\n      <th>8121</th>\n      <td>e</td>\n      <td>f</td>\n      <td>s</td>\n      <td>n</td>\n      <td>f</td>\n      <td>n</td>\n      <td>a</td>\n      <td>c</td>\n      <td>b</td>\n      <td>n</td>\n      <td>...</td>\n      <td>s</td>\n      <td>o</td>\n      <td>o</td>\n      <td>p</td>\n      <td>o</td>\n      <td>o</td>\n      <td>p</td>\n      <td>b</td>\n      <td>c</td>\n      <td>l</td>\n    </tr>\n    <tr>\n      <th>8122</th>\n      <td>p</td>\n      <td>k</td>\n      <td>y</td>\n      <td>n</td>\n      <td>f</td>\n      <td>y</td>\n      <td>f</td>\n      <td>c</td>\n      <td>n</td>\n      <td>b</td>\n      <td>...</td>\n      <td>k</td>\n      <td>w</td>\n      <td>w</td>\n      <td>p</td>\n      <td>w</td>\n      <td>o</td>\n      <td>e</td>\n      <td>w</td>\n      <td>v</td>\n      <td>l</td>\n    </tr>\n    <tr>\n      <th>8123</th>\n      <td>e</td>\n      <td>x</td>\n      <td>s</td>\n      <td>n</td>\n      <td>f</td>\n      <td>n</td>\n      <td>a</td>\n      <td>c</td>\n      <td>b</td>\n      <td>y</td>\n      <td>...</td>\n      <td>s</td>\n      <td>o</td>\n      <td>o</td>\n      <td>p</td>\n      <td>o</td>\n      <td>o</td>\n      <td>p</td>\n      <td>o</td>\n      <td>c</td>\n      <td>l</td>\n    </tr>\n  </tbody>\n</table>\n<p>2480 rows × 23 columns</p>\n</div>"
     },
     "metadata": {},
     "execution_count": 6
    }
   ],
   "source": [
    "#data cleaning\n",
    "#there are some data missing in column stalk-root, which represents in \"?\", it should be deleted? But there are 2480 results have the missing type of stalk-root\n",
    "df[df['stalk-root'] == \"?\"]"
   ]
  },
  {
   "cell_type": "code",
   "execution_count": 19,
   "metadata": {},
   "outputs": [
    {
     "output_type": "execute_result",
     "data": {
      "text/plain": [
       "     class cap-shape cap-surface cap-color bruises odor gill-attachment  \\\n",
       "0        p         x           s         n       t    p               f   \n",
       "1        e         x           s         y       t    a               f   \n",
       "2        e         b           s         w       t    l               f   \n",
       "3        p         x           y         w       t    p               f   \n",
       "4        e         x           s         g       f    n               f   \n",
       "...    ...       ...         ...       ...     ...  ...             ...   \n",
       "7986     e         b           y         n       f    n               f   \n",
       "8001     e         x           y         n       f    n               f   \n",
       "8038     e         x           y         g       t    n               f   \n",
       "8095     p         x           y         c       f    m               f   \n",
       "8114     p         f           y         c       f    m               a   \n",
       "\n",
       "     gill-spacing gill-size gill-color  ... stalk-surface-below-ring  \\\n",
       "0               c         n          k  ...                        s   \n",
       "1               c         b          k  ...                        s   \n",
       "2               c         b          n  ...                        s   \n",
       "3               c         n          n  ...                        s   \n",
       "4               w         b          k  ...                        s   \n",
       "...           ...       ...        ...  ...                      ...   \n",
       "7986            c         b          w  ...                        y   \n",
       "8001            c         b          w  ...                        y   \n",
       "8038            c         b          w  ...                        s   \n",
       "8095            c         b          y  ...                        y   \n",
       "8114            c         b          y  ...                        y   \n",
       "\n",
       "     stalk-color-above-ring stalk-color-below-ring veil-type veil-color  \\\n",
       "0                         w                      w         p          w   \n",
       "1                         w                      w         p          w   \n",
       "2                         w                      w         p          w   \n",
       "3                         w                      w         p          w   \n",
       "4                         w                      w         p          w   \n",
       "...                     ...                    ...       ...        ...   \n",
       "7986                      n                      n         p          w   \n",
       "8001                      n                      n         p          w   \n",
       "8038                      w                      w         p          w   \n",
       "8095                      c                      c         p          w   \n",
       "8114                      c                      c         p          w   \n",
       "\n",
       "     ring-number ring-type spore-print-color population habitat  \n",
       "0              o         p                 k          s       u  \n",
       "1              o         p                 n          n       g  \n",
       "2              o         p                 n          n       m  \n",
       "3              o         p                 k          s       u  \n",
       "4              o         e                 n          a       g  \n",
       "...          ...       ...               ...        ...     ...  \n",
       "7986           t         p                 w          y       p  \n",
       "8001           t         p                 w          y       p  \n",
       "8038           t         p                 w          y       p  \n",
       "8095           n         n                 w          c       d  \n",
       "8114           n         n                 w          c       d  \n",
       "\n",
       "[5644 rows x 23 columns]"
      ],
      "text/html": "<div>\n<style scoped>\n    .dataframe tbody tr th:only-of-type {\n        vertical-align: middle;\n    }\n\n    .dataframe tbody tr th {\n        vertical-align: top;\n    }\n\n    .dataframe thead th {\n        text-align: right;\n    }\n</style>\n<table border=\"1\" class=\"dataframe\">\n  <thead>\n    <tr style=\"text-align: right;\">\n      <th></th>\n      <th>class</th>\n      <th>cap-shape</th>\n      <th>cap-surface</th>\n      <th>cap-color</th>\n      <th>bruises</th>\n      <th>odor</th>\n      <th>gill-attachment</th>\n      <th>gill-spacing</th>\n      <th>gill-size</th>\n      <th>gill-color</th>\n      <th>...</th>\n      <th>stalk-surface-below-ring</th>\n      <th>stalk-color-above-ring</th>\n      <th>stalk-color-below-ring</th>\n      <th>veil-type</th>\n      <th>veil-color</th>\n      <th>ring-number</th>\n      <th>ring-type</th>\n      <th>spore-print-color</th>\n      <th>population</th>\n      <th>habitat</th>\n    </tr>\n  </thead>\n  <tbody>\n    <tr>\n      <th>0</th>\n      <td>p</td>\n      <td>x</td>\n      <td>s</td>\n      <td>n</td>\n      <td>t</td>\n      <td>p</td>\n      <td>f</td>\n      <td>c</td>\n      <td>n</td>\n      <td>k</td>\n      <td>...</td>\n      <td>s</td>\n      <td>w</td>\n      <td>w</td>\n      <td>p</td>\n      <td>w</td>\n      <td>o</td>\n      <td>p</td>\n      <td>k</td>\n      <td>s</td>\n      <td>u</td>\n    </tr>\n    <tr>\n      <th>1</th>\n      <td>e</td>\n      <td>x</td>\n      <td>s</td>\n      <td>y</td>\n      <td>t</td>\n      <td>a</td>\n      <td>f</td>\n      <td>c</td>\n      <td>b</td>\n      <td>k</td>\n      <td>...</td>\n      <td>s</td>\n      <td>w</td>\n      <td>w</td>\n      <td>p</td>\n      <td>w</td>\n      <td>o</td>\n      <td>p</td>\n      <td>n</td>\n      <td>n</td>\n      <td>g</td>\n    </tr>\n    <tr>\n      <th>2</th>\n      <td>e</td>\n      <td>b</td>\n      <td>s</td>\n      <td>w</td>\n      <td>t</td>\n      <td>l</td>\n      <td>f</td>\n      <td>c</td>\n      <td>b</td>\n      <td>n</td>\n      <td>...</td>\n      <td>s</td>\n      <td>w</td>\n      <td>w</td>\n      <td>p</td>\n      <td>w</td>\n      <td>o</td>\n      <td>p</td>\n      <td>n</td>\n      <td>n</td>\n      <td>m</td>\n    </tr>\n    <tr>\n      <th>3</th>\n      <td>p</td>\n      <td>x</td>\n      <td>y</td>\n      <td>w</td>\n      <td>t</td>\n      <td>p</td>\n      <td>f</td>\n      <td>c</td>\n      <td>n</td>\n      <td>n</td>\n      <td>...</td>\n      <td>s</td>\n      <td>w</td>\n      <td>w</td>\n      <td>p</td>\n      <td>w</td>\n      <td>o</td>\n      <td>p</td>\n      <td>k</td>\n      <td>s</td>\n      <td>u</td>\n    </tr>\n    <tr>\n      <th>4</th>\n      <td>e</td>\n      <td>x</td>\n      <td>s</td>\n      <td>g</td>\n      <td>f</td>\n      <td>n</td>\n      <td>f</td>\n      <td>w</td>\n      <td>b</td>\n      <td>k</td>\n      <td>...</td>\n      <td>s</td>\n      <td>w</td>\n      <td>w</td>\n      <td>p</td>\n      <td>w</td>\n      <td>o</td>\n      <td>e</td>\n      <td>n</td>\n      <td>a</td>\n      <td>g</td>\n    </tr>\n    <tr>\n      <th>...</th>\n      <td>...</td>\n      <td>...</td>\n      <td>...</td>\n      <td>...</td>\n      <td>...</td>\n      <td>...</td>\n      <td>...</td>\n      <td>...</td>\n      <td>...</td>\n      <td>...</td>\n      <td>...</td>\n      <td>...</td>\n      <td>...</td>\n      <td>...</td>\n      <td>...</td>\n      <td>...</td>\n      <td>...</td>\n      <td>...</td>\n      <td>...</td>\n      <td>...</td>\n      <td>...</td>\n    </tr>\n    <tr>\n      <th>7986</th>\n      <td>e</td>\n      <td>b</td>\n      <td>y</td>\n      <td>n</td>\n      <td>f</td>\n      <td>n</td>\n      <td>f</td>\n      <td>c</td>\n      <td>b</td>\n      <td>w</td>\n      <td>...</td>\n      <td>y</td>\n      <td>n</td>\n      <td>n</td>\n      <td>p</td>\n      <td>w</td>\n      <td>t</td>\n      <td>p</td>\n      <td>w</td>\n      <td>y</td>\n      <td>p</td>\n    </tr>\n    <tr>\n      <th>8001</th>\n      <td>e</td>\n      <td>x</td>\n      <td>y</td>\n      <td>n</td>\n      <td>f</td>\n      <td>n</td>\n      <td>f</td>\n      <td>c</td>\n      <td>b</td>\n      <td>w</td>\n      <td>...</td>\n      <td>y</td>\n      <td>n</td>\n      <td>n</td>\n      <td>p</td>\n      <td>w</td>\n      <td>t</td>\n      <td>p</td>\n      <td>w</td>\n      <td>y</td>\n      <td>p</td>\n    </tr>\n    <tr>\n      <th>8038</th>\n      <td>e</td>\n      <td>x</td>\n      <td>y</td>\n      <td>g</td>\n      <td>t</td>\n      <td>n</td>\n      <td>f</td>\n      <td>c</td>\n      <td>b</td>\n      <td>w</td>\n      <td>...</td>\n      <td>s</td>\n      <td>w</td>\n      <td>w</td>\n      <td>p</td>\n      <td>w</td>\n      <td>t</td>\n      <td>p</td>\n      <td>w</td>\n      <td>y</td>\n      <td>p</td>\n    </tr>\n    <tr>\n      <th>8095</th>\n      <td>p</td>\n      <td>x</td>\n      <td>y</td>\n      <td>c</td>\n      <td>f</td>\n      <td>m</td>\n      <td>f</td>\n      <td>c</td>\n      <td>b</td>\n      <td>y</td>\n      <td>...</td>\n      <td>y</td>\n      <td>c</td>\n      <td>c</td>\n      <td>p</td>\n      <td>w</td>\n      <td>n</td>\n      <td>n</td>\n      <td>w</td>\n      <td>c</td>\n      <td>d</td>\n    </tr>\n    <tr>\n      <th>8114</th>\n      <td>p</td>\n      <td>f</td>\n      <td>y</td>\n      <td>c</td>\n      <td>f</td>\n      <td>m</td>\n      <td>a</td>\n      <td>c</td>\n      <td>b</td>\n      <td>y</td>\n      <td>...</td>\n      <td>y</td>\n      <td>c</td>\n      <td>c</td>\n      <td>p</td>\n      <td>w</td>\n      <td>n</td>\n      <td>n</td>\n      <td>w</td>\n      <td>c</td>\n      <td>d</td>\n    </tr>\n  </tbody>\n</table>\n<p>5644 rows × 23 columns</p>\n</div>"
     },
     "metadata": {},
     "execution_count": 19
    }
   ],
   "source": [
    "#this is the dataset without all missing value in column stalk-root\n",
    "df1[~ (df1['stalk-root'] == \"?\")]"
   ]
  },
  {
   "cell_type": "code",
   "execution_count": 20,
   "metadata": {},
   "outputs": [
    {
     "output_type": "stream",
     "name": "stdout",
     "text": [
      "       class cap-shape cap-surface cap-color bruises  odor gill-attachment  \\\ncount   5644      5644        5644      5644    5644  5644            5644   \nunique     2         6           4         8       2     7               2   \ntop        e         x           y         g       t     n               f   \nfreq    3488      2840        2220      1696    3184  2776            5626   \n\n       gill-spacing gill-size gill-color  ... stalk-surface-below-ring  \\\ncount          5644      5644       5644  ...                     5644   \nunique            2         2          9  ...                        4   \ntop               c         b          p  ...                        s   \nfreq           4620      4940       1384  ...                     3544   \n\n       stalk-color-above-ring stalk-color-below-ring veil-type veil-color  \\\ncount                    5644                   5644      5644       5644   \nunique                      7                      7         1          2   \ntop                         w                      w         p          w   \nfreq                     3136                   3088      5644       5636   \n\n       ring-number ring-type spore-print-color population habitat  \ncount         5644      5644              5644       5644    5644  \nunique           3         4                 6          6       6  \ntop              o         p                 n          v       d  \nfreq          5488      3488              1920       2160    2492  \n\n[4 rows x 23 columns]\n"
     ]
    }
   ],
   "source": [
    "#describe the dataset \n",
    "df1 = df1[~ (df1['stalk-root'] == \"?\")]\n",
    "print(df1.describe())"
   ]
  },
  {
   "cell_type": "code",
   "execution_count": 21,
   "metadata": {},
   "outputs": [
    {
     "output_type": "execute_result",
     "data": {
      "text/plain": [
       "     class cap-shape cap-surface cap-color bruises odor gill-attachment  \\\n",
       "7986     e         b           y         n       f    n               f   \n",
       "8001     e         x           y         n       f    n               f   \n",
       "8038     e         x           y         g       t    n               f   \n",
       "8095     p         x           y         c       f    m               f   \n",
       "8114     p         f           y         c       f    m               a   \n",
       "\n",
       "     gill-spacing gill-size gill-color  ... stalk-surface-below-ring  \\\n",
       "7986            c         b          w  ...                        y   \n",
       "8001            c         b          w  ...                        y   \n",
       "8038            c         b          w  ...                        s   \n",
       "8095            c         b          y  ...                        y   \n",
       "8114            c         b          y  ...                        y   \n",
       "\n",
       "     stalk-color-above-ring stalk-color-below-ring veil-type veil-color  \\\n",
       "7986                      n                      n         p          w   \n",
       "8001                      n                      n         p          w   \n",
       "8038                      w                      w         p          w   \n",
       "8095                      c                      c         p          w   \n",
       "8114                      c                      c         p          w   \n",
       "\n",
       "     ring-number ring-type spore-print-color population habitat  \n",
       "7986           t         p                 w          y       p  \n",
       "8001           t         p                 w          y       p  \n",
       "8038           t         p                 w          y       p  \n",
       "8095           n         n                 w          c       d  \n",
       "8114           n         n                 w          c       d  \n",
       "\n",
       "[5 rows x 23 columns]"
      ],
      "text/html": "<div>\n<style scoped>\n    .dataframe tbody tr th:only-of-type {\n        vertical-align: middle;\n    }\n\n    .dataframe tbody tr th {\n        vertical-align: top;\n    }\n\n    .dataframe thead th {\n        text-align: right;\n    }\n</style>\n<table border=\"1\" class=\"dataframe\">\n  <thead>\n    <tr style=\"text-align: right;\">\n      <th></th>\n      <th>class</th>\n      <th>cap-shape</th>\n      <th>cap-surface</th>\n      <th>cap-color</th>\n      <th>bruises</th>\n      <th>odor</th>\n      <th>gill-attachment</th>\n      <th>gill-spacing</th>\n      <th>gill-size</th>\n      <th>gill-color</th>\n      <th>...</th>\n      <th>stalk-surface-below-ring</th>\n      <th>stalk-color-above-ring</th>\n      <th>stalk-color-below-ring</th>\n      <th>veil-type</th>\n      <th>veil-color</th>\n      <th>ring-number</th>\n      <th>ring-type</th>\n      <th>spore-print-color</th>\n      <th>population</th>\n      <th>habitat</th>\n    </tr>\n  </thead>\n  <tbody>\n    <tr>\n      <th>7986</th>\n      <td>e</td>\n      <td>b</td>\n      <td>y</td>\n      <td>n</td>\n      <td>f</td>\n      <td>n</td>\n      <td>f</td>\n      <td>c</td>\n      <td>b</td>\n      <td>w</td>\n      <td>...</td>\n      <td>y</td>\n      <td>n</td>\n      <td>n</td>\n      <td>p</td>\n      <td>w</td>\n      <td>t</td>\n      <td>p</td>\n      <td>w</td>\n      <td>y</td>\n      <td>p</td>\n    </tr>\n    <tr>\n      <th>8001</th>\n      <td>e</td>\n      <td>x</td>\n      <td>y</td>\n      <td>n</td>\n      <td>f</td>\n      <td>n</td>\n      <td>f</td>\n      <td>c</td>\n      <td>b</td>\n      <td>w</td>\n      <td>...</td>\n      <td>y</td>\n      <td>n</td>\n      <td>n</td>\n      <td>p</td>\n      <td>w</td>\n      <td>t</td>\n      <td>p</td>\n      <td>w</td>\n      <td>y</td>\n      <td>p</td>\n    </tr>\n    <tr>\n      <th>8038</th>\n      <td>e</td>\n      <td>x</td>\n      <td>y</td>\n      <td>g</td>\n      <td>t</td>\n      <td>n</td>\n      <td>f</td>\n      <td>c</td>\n      <td>b</td>\n      <td>w</td>\n      <td>...</td>\n      <td>s</td>\n      <td>w</td>\n      <td>w</td>\n      <td>p</td>\n      <td>w</td>\n      <td>t</td>\n      <td>p</td>\n      <td>w</td>\n      <td>y</td>\n      <td>p</td>\n    </tr>\n    <tr>\n      <th>8095</th>\n      <td>p</td>\n      <td>x</td>\n      <td>y</td>\n      <td>c</td>\n      <td>f</td>\n      <td>m</td>\n      <td>f</td>\n      <td>c</td>\n      <td>b</td>\n      <td>y</td>\n      <td>...</td>\n      <td>y</td>\n      <td>c</td>\n      <td>c</td>\n      <td>p</td>\n      <td>w</td>\n      <td>n</td>\n      <td>n</td>\n      <td>w</td>\n      <td>c</td>\n      <td>d</td>\n    </tr>\n    <tr>\n      <th>8114</th>\n      <td>p</td>\n      <td>f</td>\n      <td>y</td>\n      <td>c</td>\n      <td>f</td>\n      <td>m</td>\n      <td>a</td>\n      <td>c</td>\n      <td>b</td>\n      <td>y</td>\n      <td>...</td>\n      <td>y</td>\n      <td>c</td>\n      <td>c</td>\n      <td>p</td>\n      <td>w</td>\n      <td>n</td>\n      <td>n</td>\n      <td>w</td>\n      <td>c</td>\n      <td>d</td>\n    </tr>\n  </tbody>\n</table>\n<p>5 rows × 23 columns</p>\n</div>"
     },
     "metadata": {},
     "execution_count": 21
    }
   ],
   "source": [
    "df1.tail()\n",
    "#from the result of df1.tail() we can see after cleaned the missing data, the index should be regenerated"
   ]
  },
  {
   "cell_type": "code",
   "execution_count": 22,
   "metadata": {},
   "outputs": [
    {
     "output_type": "stream",
     "name": "stdout",
     "text": [
      "     class cap-shape cap-surface cap-color bruises odor gill-attachment  \\\n5639     e         b           y         n       f    n               f   \n5640     e         x           y         n       f    n               f   \n5641     e         x           y         g       t    n               f   \n5642     p         x           y         c       f    m               f   \n5643     p         f           y         c       f    m               a   \n\n     gill-spacing gill-size gill-color  ... stalk-surface-below-ring  \\\n5639            c         b          w  ...                        y   \n5640            c         b          w  ...                        y   \n5641            c         b          w  ...                        s   \n5642            c         b          y  ...                        y   \n5643            c         b          y  ...                        y   \n\n     stalk-color-above-ring stalk-color-below-ring veil-type veil-color  \\\n5639                      n                      n         p          w   \n5640                      n                      n         p          w   \n5641                      w                      w         p          w   \n5642                      c                      c         p          w   \n5643                      c                      c         p          w   \n\n     ring-number ring-type spore-print-color population habitat  \n5639           t         p                 w          y       p  \n5640           t         p                 w          y       p  \n5641           t         p                 w          y       p  \n5642           n         n                 w          c       d  \n5643           n         n                 w          c       d  \n\n[5 rows x 23 columns]\n"
     ]
    }
   ],
   "source": [
    "#change the index \n",
    "df1.reset_index(drop=True, inplace=True)\n",
    "print(df1.tail())"
   ]
  },
  {
   "cell_type": "code",
   "execution_count": 27,
   "metadata": {},
   "outputs": [
    {
     "output_type": "stream",
     "name": "stdout",
     "text": [
      "[1703 5222 3832 ...  871 1960 1964]\n"
     ]
    }
   ],
   "source": [
    "#after cleaned the missing data, we need to re-indexing the data. Put the order randomly before we seperate the dataset into two parts for machine learning traning.\n",
    "random = np.random.permutation(df1.index.size)\n",
    "print(random)\n",
    "df2 = df1.take(random)"
   ]
  },
  {
   "cell_type": "code",
   "execution_count": 28,
   "metadata": {},
   "outputs": [
    {
     "output_type": "stream",
     "name": "stdout",
     "text": [
      "     class cap-shape cap-surface cap-color bruises odor gill-attachment  \\\n1703     p         f           y         n       t    p               f   \n5222     p         f           y         w       t    n               f   \n3832     e         f           f         e       t    n               f   \n5328     p         f           s         g       t    f               f   \n3317     e         f           y         g       t    n               f   \n...    ...       ...         ...       ...     ...  ...             ...   \n950      p         x           y         w       t    p               f   \n1766     e         f           s         g       f    n               f   \n871      e         x           s         y       t    l               f   \n1960     e         x           f         g       t    n               f   \n1964     e         f           s         w       f    n               f   \n\n     gill-spacing gill-size gill-color  ... stalk-surface-below-ring  \\\n1703            c         n          w  ...                        s   \n5222            c         b          g  ...                        s   \n3832            c         b          n  ...                        s   \n5328            c         b          h  ...                        s   \n3317            c         b          p  ...                        s   \n...           ...       ...        ...  ...                      ...   \n950             c         n          w  ...                        s   \n1766            w         b          n  ...                        f   \n871             c         b          w  ...                        s   \n1960            c         b          u  ...                        s   \n1964            w         b          h  ...                        f   \n\n     stalk-color-above-ring stalk-color-below-ring veil-type veil-color  \\\n1703                      w                      w         p          w   \n5222                      w                      w         p          w   \n3832                      p                      p         p          w   \n5328                      w                      w         p          w   \n3317                      p                      g         p          w   \n...                     ...                    ...       ...        ...   \n950                       w                      w         p          w   \n1766                      w                      w         p          w   \n871                       w                      w         p          w   \n1960                      w                      g         p          w   \n1964                      w                      w         p          w   \n\n     ring-number ring-type spore-print-color population habitat  \n1703           o         p                 k          s       g  \n5222           t         p                 r          v       m  \n3832           o         p                 k          v       d  \n5328           o         p                 h          v       g  \n3317           o         p                 n          v       d  \n...          ...       ...               ...        ...     ...  \n950            o         p                 n          s       u  \n1766           o         e                 n          a       g  \n871            o         p                 n          n       g  \n1960           o         p                 k          y       d  \n1964           o         e                 n          a       g  \n\n[5644 rows x 23 columns]\n"
     ]
    }
   ],
   "source": [
    "print(df2)"
   ]
  },
  {
   "cell_type": "code",
   "execution_count": null,
   "metadata": {},
   "outputs": [],
   "source": [
    "#also it can be good to change the initital letters back to the full word, as it need go back to the reference table to check what initials means is really annoying,\n"
   ]
  },
  {
   "cell_type": "code",
   "execution_count": 59,
   "metadata": {},
   "outputs": [],
   "source": [
    "#separate the data to two part for machine learning \n",
    "#using Kfold split might be a better option than just random split the dataset into two parts? idea from: https://blog.csdn.net/MDbabyface/article/details/83271612 (Chinese only, but you can goole what is Kfold sorry)\n",
    "from sklearn.model_selection import train_test_split\n",
    "df2_train, df2_test = train_test_split(df2, test_size=0.3) #put ramdon_state=0 into the bracket, it also can separate the dataset randomly, but we might keep the code above to waste some word counts"
   ]
  },
  {
   "cell_type": "code",
   "execution_count": 60,
   "metadata": {},
   "outputs": [
    {
     "output_type": "stream",
     "name": "stdout",
     "text": [
      "     class cap-shape cap-surface cap-color bruises odor gill-attachment  \\\n3083     e         f           f         e       t    n               f   \n5547     p         f           f         y       f    f               f   \n5487     p         f           s         g       t    f               f   \n4536     p         x           y         y       f    f               f   \n5585     p         f           y         e       f    m               f   \n...    ...       ...         ...       ...     ...  ...             ...   \n4555     p         x           f         w       f    c               f   \n2558     e         x           y         g       t    n               f   \n4160     e         f           f         c       f    n               f   \n3658     p         f           f         y       f    f               f   \n1233     e         x           f         w       f    n               f   \n\n     gill-spacing gill-size gill-color  ... stalk-surface-below-ring  \\\n3083            c         b          p  ...                        s   \n5547            c         b          p  ...                        k   \n5487            c         b          h  ...                        s   \n4536            c         b          g  ...                        k   \n5585            c         b          w  ...                        y   \n...           ...       ...        ...  ...                      ...   \n4555            c         n          g  ...                        s   \n2558            c         b          n  ...                        s   \n4160            w         n          w  ...                        f   \n3658            c         b          h  ...                        k   \n1233            w         b          p  ...                        f   \n\n     stalk-color-above-ring stalk-color-below-ring veil-type veil-color  \\\n3083                      w                      w         p          w   \n5547                      n                      n         p          w   \n5487                      w                      w         p          w   \n4536                      b                      n         p          w   \n5585                      c                      c         p          w   \n...                     ...                    ...       ...        ...   \n4555                      w                      w         p          w   \n2558                      p                      w         p          w   \n4160                      w                      n         p          w   \n3658                      n                      b         p          w   \n1233                      w                      w         p          w   \n\n     ring-number ring-type spore-print-color population habitat  \n3083           o         p                 n          v       d  \n5547           o         l                 h          y       d  \n5487           o         p                 h          s       u  \n4536           o         l                 h          y       p  \n5585           n         n                 w          c       d  \n...          ...       ...               ...        ...     ...  \n4555           o         p                 n          v       d  \n2558           o         p                 n          v       d  \n4160           o         e                 w          v       l  \n3658           o         l                 h          y       d  \n1233           o         e                 n          a       g  \n\n[1694 rows x 23 columns]\n"
     ]
    }
   ],
   "source": [
    "print(df2_test)"
   ]
  },
  {
   "cell_type": "code",
   "execution_count": 61,
   "metadata": {},
   "outputs": [
    {
     "output_type": "stream",
     "name": "stdout",
     "text": [
      "     class cap-shape cap-surface cap-color bruises odor gill-attachment  \\\n878      e         f           y         y       t    l               f   \n1058     e         x           y         y       t    l               f   \n1933     e         f           f         g       f    n               f   \n5056     p         f           s         b       t    f               f   \n2888     e         f           y         e       t    n               f   \n...    ...       ...         ...       ...     ...  ...             ...   \n2270     e         f           f         g       t    n               f   \n2528     e         x           y         n       t    n               f   \n2430     e         f           f         e       t    n               f   \n1631     e         f           f         w       f    n               f   \n4770     p         f           f         g       f    f               f   \n\n     gill-spacing gill-size gill-color  ... stalk-surface-below-ring  \\\n878             c         b          w  ...                        y   \n1058            c         b          w  ...                        s   \n1933            w         b          k  ...                        f   \n5056            c         b          h  ...                        s   \n2888            c         b          w  ...                        s   \n...           ...       ...        ...  ...                      ...   \n2270            c         b          n  ...                        s   \n2528            c         b          p  ...                        s   \n2430            c         b          u  ...                        s   \n1631            w         b          h  ...                        f   \n4770            c         b          g  ...                        k   \n\n     stalk-color-above-ring stalk-color-below-ring veil-type veil-color  \\\n878                       w                      w         p          w   \n1058                      w                      w         p          w   \n1933                      w                      w         p          w   \n5056                      w                      w         p          w   \n2888                      p                      p         p          w   \n...                     ...                    ...       ...        ...   \n2270                      p                      w         p          w   \n2528                      w                      p         p          w   \n2430                      p                      g         p          w   \n1631                      w                      w         p          w   \n4770                      b                      b         p          w   \n\n     ring-number ring-type spore-print-color population habitat  \n878            o         p                 n          y       g  \n1058           o         p                 k          n       g  \n1933           o         e                 k          a       g  \n5056           o         p                 h          v       g  \n2888           o         p                 k          v       d  \n...          ...       ...               ...        ...     ...  \n2270           o         p                 n          v       d  \n2528           o         p                 k          v       d  \n2430           o         p                 n          v       d  \n1631           o         e                 n          a       g  \n4770           o         l                 h          y       d  \n\n[3950 rows x 23 columns]\n"
     ]
    }
   ],
   "source": [
    "print(df2_train)"
   ]
  },
  {
   "cell_type": "code",
   "execution_count": 56,
   "metadata": {},
   "outputs": [],
   "source": [
    "#write into file\n",
    "df2_test.to_csv('test.csv')\n",
    "df2_train.to_csv('test.csv')"
   ]
  },
  {
   "cell_type": "code",
   "execution_count": null,
   "metadata": {},
   "outputs": [],
   "source": []
  }
 ]
}