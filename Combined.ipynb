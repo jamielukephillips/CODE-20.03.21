{
 "metadata": {
  "language_info": {
   "codemirror_mode": {
    "name": "ipython",
    "version": 3
   },
   "file_extension": ".py",
   "mimetype": "text/x-python",
   "name": "python",
   "nbconvert_exporter": "python",
   "pygments_lexer": "ipython3",
   "version": "3.8.5-final"
  },
  "orig_nbformat": 2,
  "kernelspec": {
   "name": "python3",
   "display_name": "Python 3",
   "language": "python"
  }
 },
 "nbformat": 4,
 "nbformat_minor": 2,
 "cells": [
  {
   "cell_type": "code",
   "execution_count": 1,
   "metadata": {},
   "outputs": [],
   "source": [
    "import pandas as pd\n",
    "import numpy as np\n",
    "from sklearn.tree import DecisionTreeRegressor\n",
    "from sklearn.preprocessing import LabelEncoder\n",
    "from sklearn.compose import ColumnTransformer\n",
    "from sklearn.preprocessing import OneHotEncoder\n",
    "from sklearn.model_selection import train_test_split\n",
    "from sklearn.linear_model import LogisticRegression\n",
    "from sklearn.metrics import confusion_matrix, accuracy_score\n",
    "from sklearn.decomposition import PCA\n",
    "\n"
   ]
  },
  {
   "cell_type": "code",
   "execution_count": null,
   "metadata": {},
   "outputs": [],
   "source": [
    "#Method 1- Keep the missing data \"?\" as a question marks \n",
    "\n",
    "#doing nothing on the dataset "
   ]
  },
  {
   "cell_type": "code",
   "execution_count": null,
   "metadata": {},
   "outputs": [],
   "source": [
    "#Method 2- remove the missing data \"?\" \n",
    "\n",
    "df=pd.read_csv('mushrooms.csv')\n",
    "df1 = df\n",
    "# Data Cleaning\n",
    "df1 = df1[~ (df1['stalk-root'] == \"?\")]\n",
    "#change the index \n",
    "df1.reset_index(drop=True, inplace=True)\n",
    "#after cleaned the missing data, we need to re-indexing the data. Put the order randomly before we seperate the dataset into two parts for machine learning traning.\n",
    "random = np.random.permutation(df1.index.size)\n",
    "print(random)\n",
    "df2 = df1.take(random)\n",
    "#out put to csv\n",
    "df2.to_csv('df2.csv')\n",
    "\n"
   ]
  },
  {
   "cell_type": "code",
   "execution_count": 14,
   "metadata": {},
   "outputs": [],
   "source": [
    "trial.to_csv(\"trial.csv\")"
   ]
  },
  {
   "cell_type": "code",
   "execution_count": 24,
   "metadata": {
    "tags": []
   },
   "outputs": [],
   "source": [
    "#Method 3- Use KNN method to give values for missing data \"?\"\n",
    "#split each value of the columns into new columns. E,g, there was only one column called stalk-root, here we split it into new columns as stalk-root_?, stalk-root_b, stalk-root_c, stalk-root_u,stalk-root_e,stalk-root_z, stalk-root_r\n",
    "mushroom_data = pd.read_csv(\"mushrooms.csv\")\n",
    "trial = pd.get_dummies(data=mushroom_data, columns = mushroom_data.columns)\n",
    "\n",
    "\n",
    "from sklearn.impute import KNNImputer\n",
    "#then we find out which has stalk-root_? is 1, we delete all the stalk-root values as missing, as we dont know what stalk-root is it \n",
    "trial.loc[trial['stalk-root_?'] == 1, 'stalk-root_r' ] = np.NaN\n",
    "trial.loc[trial['stalk-root_?'] == 1, 'stalk-root_b' ] = np.NaN\n",
    "trial.loc[trial['stalk-root_?'] == 1, 'stalk-root_c' ] = np.NaN\n",
    "trial.loc[trial['stalk-root_?'] == 1, 'stalk-root_z' ] = np.NaN\n",
    "trial.loc[trial['stalk-root_?'] == 1, 'stalk-root_u' ] = np.NaN\n",
    "trial.loc[trial['stalk-root_?'] == 1, 'stalk-root_e' ] = np.NaN\n",
    "trial['stalk-root_?'] = trial['stalk-root_?'].replace([1], np.nan)\n",
    "#as the giving data, there is no one has z/u, but it is a type, we have to assgin stalk-root_u and stalk-root_z to 0, where there is a type for stalk-root \n",
    "trial.loc[trial['stalk-root_r'] == 1, 'stalk-root_u' ] = 0\n",
    "trial.loc[trial['stalk-root_b'] == 1, 'stalk-root_u' ] = 0\n",
    "trial.loc[trial['stalk-root_c'] == 1, 'stalk-root_u' ] = 0\n",
    "trial.loc[trial['stalk-root_e'] == 1, 'stalk-root_u' ] = 0\n",
    "trial.loc[trial['stalk-root_r'] == 1, 'stalk-root_z' ] = 0\n",
    "trial.loc[trial['stalk-root_b'] == 1, 'stalk-root_z' ] = 0\n",
    "trial.loc[trial['stalk-root_c'] == 1, 'stalk-root_z' ] = 0\n",
    "trial.loc[trial['stalk-root_e'] == 1, 'stalk-root_z' ] = 0\n",
    "#then we delete the ? column, as we are going to use KNN method to give a value \n",
    "trial1= trial.drop(columns = ['stalk-root_?'])\n",
    "imputer = KNNImputer(n_neighbors=5) # maybe we change the neighbours\n",
    "trial_imputed = imputer.fit_transform(trial1)\n",
    "trial_imputed = pd.DataFrame(trial_imputed, columns = trial1.columns)\n",
    "for col in trial_imputed.columns:\n",
    "    trial_imputed[col] = trial_imputed[col].round()\n",
    "trial_imputed.to_csv('b.csv')"
   ]
  },
  {
   "cell_type": "code",
   "execution_count": null,
   "metadata": {},
   "outputs": [],
   "source": []
  }
 ]
}